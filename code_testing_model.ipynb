{
 "cells": [
  {
   "cell_type": "code",
   "execution_count": 2,
   "metadata": {},
   "outputs": [],
   "source": [
    "import numpy as np\n",
    "import tensorflow as tf\n",
    "\n",
    "# Load the TFLite model\n",
    "interpreter = tf.lite.Interpreter(model_path=\"C:/Users/Something/Downloads/model_mobilenetv2.tflite\")\n",
    "interpreter.allocate_tensors()"
   ]
  },
  {
   "cell_type": "code",
   "execution_count": 3,
   "metadata": {},
   "outputs": [],
   "source": [
    "from PIL import Image\n",
    "\n",
    "# Load and preprocess the image\n",
    "image_path = 'C:/Users/Something/Downloads/testing/tipburn.jpg'\n",
    "image = Image.open(image_path)\n",
    "image = image.resize((224, 224))  # Resize the image to match the model's input size\n",
    "image = np.array(image)  # Convert the PIL image to a NumPy array\n",
    "image = image.astype(np.float32) / 255.0  # Normalize the pixel values (assuming the model expects values in the range [0, 1])\n",
    "# Add an extra dimension to represent the batch size\n",
    "image = np.expand_dims(image, axis=0)\n"
   ]
  },
  {
   "cell_type": "code",
   "execution_count": 4,
   "metadata": {},
   "outputs": [],
   "source": [
    "# Set the input tensor\n",
    "input_details = interpreter.get_input_details()\n",
    "interpreter.set_tensor(input_details[0]['index'], image)"
   ]
  },
  {
   "cell_type": "code",
   "execution_count": 5,
   "metadata": {},
   "outputs": [],
   "source": [
    "# Run the inference\n",
    "interpreter.invoke()\n",
    "\n",
    "# Get the output tensor\n",
    "output_details = interpreter.get_output_details()\n",
    "output_data = interpreter.get_tensor(output_details[0]['index'])\n"
   ]
  },
  {
   "cell_type": "code",
   "execution_count": 6,
   "metadata": {},
   "outputs": [
    {
     "name": "stdout",
     "output_type": "stream",
     "text": [
      "[{'name': 'StatefulPartitionedCall:0', 'index': 189, 'shape': array([ 1, 19]), 'shape_signature': array([-1, 19]), 'dtype': <class 'numpy.float32'>, 'quantization': (0.0, 0), 'quantization_parameters': {'scales': array([], dtype=float32), 'zero_points': array([], dtype=int32), 'quantized_dimension': 0}, 'sparsity_parameters': {}}]\n",
      "[[2.3406879e-05 7.6943916e-06 8.5593719e-04 6.6824385e-04 2.7047802e-04\n",
      "  1.5904321e-03 8.7847048e-01 1.7362915e-03 2.7003738e-05 1.9148390e-03\n",
      "  1.1763336e-03 1.3676981e-04 1.5397577e-06 3.4225734e-05 1.7020508e-05\n",
      "  2.5440153e-05 1.1266130e-01 2.4990006e-05 3.5755910e-04]]\n"
     ]
    }
   ],
   "source": [
    "\n",
    "print(output_details)\n",
    "print(output_data)"
   ]
  },
  {
   "cell_type": "code",
   "execution_count": 7,
   "metadata": {},
   "outputs": [
    {
     "name": "stdout",
     "output_type": "stream",
     "text": [
      "Class 0: 4.87%\n",
      "Class 1: 4.87%\n",
      "Class 2: 4.87%\n",
      "Class 3: 4.87%\n",
      "Class 4: 4.87%\n",
      "Class 5: 4.88%\n",
      "Class 6: 11.72%\n",
      "Class 7: 4.88%\n",
      "Class 8: 4.87%\n",
      "Class 9: 4.88%\n",
      "Class 10: 4.88%\n",
      "Class 11: 4.87%\n",
      "Class 12: 4.87%\n",
      "Class 13: 4.87%\n",
      "Class 14: 4.87%\n",
      "Class 15: 4.87%\n",
      "Class 16: 5.45%\n",
      "Class 17: 4.87%\n",
      "Class 18: 4.87%\n"
     ]
    }
   ],
   "source": [
    "# Apply softmax activation\n",
    "probabilities = np.squeeze(np.exp(output_data) / np.sum(np.exp(output_data), axis=-1))\n",
    "\n",
    "# Print the class probabilities\n",
    "for i, prob in enumerate(probabilities):\n",
    "    print(f\"Class {i}: {prob*100:.2f}%\")"
   ]
  },
  {
   "cell_type": "code",
   "execution_count": 8,
   "metadata": {},
   "outputs": [
    {
     "name": "stdout",
     "output_type": "stream",
     "text": [
      "6\n"
     ]
    }
   ],
   "source": [
    "predicted_class = np.argmax(output_data)\n",
    "output_results = predicted_class\n",
    "print(output_results)"
   ]
  }
 ],
 "metadata": {
  "kernelspec": {
   "display_name": "Python 3.10.10 ('base')",
   "language": "python",
   "name": "python3"
  },
  "language_info": {
   "codemirror_mode": {
    "name": "ipython",
    "version": 3
   },
   "file_extension": ".py",
   "mimetype": "text/x-python",
   "name": "python",
   "nbconvert_exporter": "python",
   "pygments_lexer": "ipython3",
   "version": "3.10.10"
  },
  "orig_nbformat": 4,
  "vscode": {
   "interpreter": {
    "hash": "137e9bcd0ed9cf04569e486ca96e031fabe300a51d72259f7d3b4d99334e3d0e"
   }
  }
 },
 "nbformat": 4,
 "nbformat_minor": 2
}
