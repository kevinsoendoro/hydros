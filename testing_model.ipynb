{
 "cells": [
  {
   "cell_type": "code",
   "execution_count": 2,
   "metadata": {},
   "outputs": [],
   "source": [
    "import numpy as np\n",
    "import tensorflow as tf\n",
    "\n",
    "# Load the TFLite model\n",
    "interpreter = tf.lite.Interpreter(model_path=\"D:/Download/model.tflite\")\n",
    "interpreter.allocate_tensors()"
   ]
  },
  {
   "cell_type": "code",
   "execution_count": 18,
   "metadata": {},
   "outputs": [],
   "source": [
    "from PIL import Image\n",
    "\n",
    "# Load and preprocess the image\n",
    "image_path = 'C:/Users/Something/Downloads/testing/meal.jpg'\n",
    "image = Image.open(image_path)\n",
    "image = image.resize((224, 224))  # Resize the image to match the model's input size\n",
    "image = np.array(image)  # Convert the PIL image to a NumPy array\n",
    "image = image.astype(np.float32) / 255.0  # Normalize the pixel values (assuming the model expects values in the range [0, 1])\n",
    "# Add an extra dimension to represent the batch size\n",
    "image = np.expand_dims(image, axis=0)\n"
   ]
  },
  {
   "cell_type": "code",
   "execution_count": 19,
   "metadata": {},
   "outputs": [],
   "source": [
    "# Set the input tensor\n",
    "input_details = interpreter.get_input_details()\n",
    "interpreter.set_tensor(input_details[0]['index'], image)"
   ]
  },
  {
   "cell_type": "code",
   "execution_count": 20,
   "metadata": {},
   "outputs": [],
   "source": [
    "# Run the inference\n",
    "interpreter.invoke()\n",
    "\n",
    "# Get the output tensor\n",
    "output_details = interpreter.get_output_details()\n",
    "output_data = interpreter.get_tensor(output_details[0]['index'])\n"
   ]
  },
  {
   "cell_type": "code",
   "execution_count": 21,
   "metadata": {},
   "outputs": [
    {
     "name": "stdout",
     "output_type": "stream",
     "text": [
      "Class 0: 5.09%\n",
      "Class 1: 5.08%\n",
      "Class 2: 5.13%\n",
      "Class 3: 6.54%\n",
      "Class 4: 5.21%\n",
      "Class 5: 5.31%\n",
      "Class 6: 5.42%\n",
      "Class 7: 5.09%\n",
      "Class 8: 5.15%\n",
      "Class 9: 5.15%\n",
      "Class 10: 5.20%\n",
      "Class 11: 5.20%\n",
      "Class 12: 5.06%\n",
      "Class 13: 5.13%\n",
      "Class 14: 5.04%\n",
      "Class 15: 5.15%\n",
      "Class 16: 5.34%\n",
      "Class 17: 5.53%\n",
      "Class 18: 5.18%\n"
     ]
    }
   ],
   "source": [
    "# Apply softmax activation\n",
    "probabilities = np.squeeze(np.exp(output_data) / np.sum(np.exp(output_data), axis=-1))\n",
    "\n",
    "# Print the class probabilities\n",
    "for i, prob in enumerate(probabilities):\n",
    "    print(f\"Class {i}: {prob*100:.2f}%\")"
   ]
  },
  {
   "cell_type": "code",
   "execution_count": 16,
   "metadata": {},
   "outputs": [
    {
     "name": "stdout",
     "output_type": "stream",
     "text": [
      "[[0.02691796 0.02207091 0.02588019 0.16753721 0.04699671 0.06277888\n",
      "  0.12846388 0.02101311 0.03115262 0.02312884 0.03506915 0.05082602\n",
      "  0.02021069 0.02409969 0.01129292 0.03819875 0.10369223 0.11961641\n",
      "  0.04105379]]\n"
     ]
    }
   ],
   "source": [
    "print(output_data)"
   ]
  },
  {
   "cell_type": "code",
   "execution_count": 17,
   "metadata": {},
   "outputs": [
    {
     "name": "stdout",
     "output_type": "stream",
     "text": [
      "3\n"
     ]
    }
   ],
   "source": [
    "predicted_class = np.argmax(output_data)\n",
    "output_results = predicted_class\n",
    "print(output_results)"
   ]
  }
 ],
 "metadata": {
  "kernelspec": {
   "display_name": "Python 3.10.3 64-bit",
   "language": "python",
   "name": "python3"
  },
  "language_info": {
   "codemirror_mode": {
    "name": "ipython",
    "version": 3
   },
   "file_extension": ".py",
   "mimetype": "text/x-python",
   "name": "python",
   "nbconvert_exporter": "python",
   "pygments_lexer": "ipython3",
   "version": "3.10.3"
  },
  "orig_nbformat": 4,
  "vscode": {
   "interpreter": {
    "hash": "59ab48a8f31f82c8503f6f6b6f9bc3e87f198f6a97147fb2f92d23c4c96699f1"
   }
  }
 },
 "nbformat": 4,
 "nbformat_minor": 2
}
