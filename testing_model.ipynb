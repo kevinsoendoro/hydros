{
 "cells": [
  {
   "attachments": {},
   "cell_type": "markdown",
   "metadata": {
    "pycharm": {
     "name": "#%% md\n"
    }
   },
   "source": [
    "# Testing Hydroponic Plant Health Detection Model"
   ]
  },
  {
   "attachments": {},
   "cell_type": "markdown",
   "metadata": {
    "pycharm": {
     "name": "#%% md\n"
    }
   },
   "source": [
    "## 1. Import libraries\n",
    "\n",
    "Load the libraries needed by using import. The libraries needed are:\n",
    "\n",
    "* TensoFlow\n",
    "* Numpy\n",
    "* PIL"
   ]
  },
  {
   "cell_type": "code",
   "execution_count": 1,
   "metadata": {
    "pycharm": {
     "name": "#%%\n"
    }
   },
   "outputs": [],
   "source": [
    "import numpy as np\n",
    "import tensorflow as tf\n",
    "from PIL import Image"
   ]
  },
  {
   "attachments": {},
   "cell_type": "markdown",
   "metadata": {
    "pycharm": {
     "name": "#%% md\n"
    }
   },
   "source": [
    "## 2. Load the TFLite model of the best accuracy that we've already had before"
   ]
  },
  {
   "cell_type": "code",
   "execution_count": 2,
   "metadata": {
    "pycharm": {
     "name": "#%%\n"
    }
   },
   "outputs": [],
   "source": [
    "# Load the TFLite model\n",
    "interpreter = tf.lite.Interpreter(model_path=\"C:/Users/PC-MSI/Downloads/model/model_mobilenetv2.tflite\")\n",
    "interpreter.allocate_tensors()"
   ]
  },
  {
   "attachments": {},
   "cell_type": "markdown",
   "metadata": {
    "pycharm": {
     "name": "#%% md\n"
    }
   },
   "source": [
    "## 3. Load and Preprocess the test image"
   ]
  },
  {
   "cell_type": "code",
   "execution_count": 10,
   "metadata": {
    "pycharm": {
     "name": "#%%\n"
    }
   },
   "outputs": [],
   "source": [
    "# Load and preprocess the image\n",
    "image_path = 'C:/Users/PC-MSI/Downloads/testingimagepopeye.jpg'\n",
    "image = Image.open(image_path)\n",
    "image = image.resize((224, 224))  # Resize the image to match the model's input size\n",
    "image = np.array(image)  # Convert the PIL image to a NumPy array\n",
    "image = image.astype(np.float32) / 255.0  # Normalize the pixel values (assuming the model expects values in the range [0, 1])\n",
    "\n",
    "# Add an extra dimension to represent the batch size\n",
    "image = np.expand_dims(image, axis=0)"
   ]
  },
  {
   "attachments": {},
   "cell_type": "markdown",
   "metadata": {
    "pycharm": {
     "name": "#%% md\n"
    }
   },
   "source": [
    "## 4. Setting the input and output tensor"
   ]
  },
  {
   "cell_type": "code",
   "execution_count": 11,
   "metadata": {
    "pycharm": {
     "name": "#%%\n"
    }
   },
   "outputs": [],
   "source": [
    "# Set the input tensor\n",
    "input_details = interpreter.get_input_details()\n",
    "interpreter.set_tensor(input_details[0]['index'], image)"
   ]
  },
  {
   "cell_type": "code",
   "execution_count": 12,
   "metadata": {
    "pycharm": {
     "name": "#%%\n"
    }
   },
   "outputs": [],
   "source": [
    "# Run the inference\n",
    "interpreter.invoke()\n",
    "\n",
    "# Get the output tensor\n",
    "output_details = interpreter.get_output_details()\n",
    "output_data = interpreter.get_tensor(output_details[0]['index'])"
   ]
  },
  {
   "attachments": {},
   "cell_type": "markdown",
   "metadata": {
    "pycharm": {
     "name": "#%% md\n"
    }
   },
   "source": [
    "## 5. Run the Analysis using the model"
   ]
  },
  {
   "cell_type": "code",
   "execution_count": 13,
   "metadata": {
    "pycharm": {
     "name": "#%%\n"
    }
   },
   "outputs": [
    {
     "name": "stdout",
     "output_type": "stream",
     "text": [
      "Class 0: 5.28%\n",
      "Class 1: 5.19%\n",
      "Class 2: 5.20%\n",
      "Class 3: 5.14%\n",
      "Class 4: 5.28%\n",
      "Class 5: 5.17%\n",
      "Class 6: 5.30%\n",
      "Class 7: 5.28%\n",
      "Class 8: 5.21%\n",
      "Class 9: 5.18%\n",
      "Class 10: 5.35%\n",
      "Class 11: 5.41%\n",
      "Class 12: 5.10%\n",
      "Class 13: 5.18%\n",
      "Class 14: 5.09%\n",
      "Class 15: 5.42%\n",
      "Class 16: 5.19%\n",
      "Class 17: 5.27%\n",
      "Class 18: 5.77%\n"
     ]
    }
   ],
   "source": [
    "# Apply softmax activation\n",
    "probabilities = np.squeeze(np.exp(output_data) / np.sum(np.exp(output_data), axis=-1))\n",
    "\n",
    "# Print the class probabilities\n",
    "for i, prob in enumerate(probabilities):\n",
    "    print(f\"Class {i}: {prob*100:.2f}%\")"
   ]
  },
  {
   "cell_type": "code",
   "execution_count": 14,
   "metadata": {
    "pycharm": {
     "name": "#%%\n"
    }
   },
   "outputs": [
    {
     "name": "stdout",
     "output_type": "stream",
     "text": [
      "[[0.05598257 0.03985515 0.04039687 0.02838964 0.05563429 0.03505407\n",
      "  0.05922388 0.05570375 0.04333669 0.03720442 0.06976598 0.08065712\n",
      "  0.02146432 0.03695102 0.01865281 0.0815639  0.03986301 0.05512808\n",
      "  0.14517245]]\n"
     ]
    }
   ],
   "source": [
    "print(output_data)"
   ]
  },
  {
   "attachments": {},
   "cell_type": "markdown",
   "metadata": {},
   "source": [
    "## 6. Get the result class"
   ]
  },
  {
   "cell_type": "code",
   "execution_count": 16,
   "metadata": {
    "pycharm": {
     "name": "#%%\n"
    }
   },
   "outputs": [
    {
     "name": "stdout",
     "output_type": "stream",
     "text": [
      "18\n"
     ]
    }
   ],
   "source": [
    "predicted_class = np.argmax(output_data)\n",
    "output_results = predicted_class\n",
    "print(output_results)\n",
    "\n",
    "# Will be printed as class 18 or classified as healthy spinach"
   ]
  }
 ],
 "metadata": {
  "kernelspec": {
   "display_name": "Python 3.10.3 64-bit",
   "language": "python",
   "name": "python3"
  },
  "language_info": {
   "codemirror_mode": {
    "name": "ipython",
    "version": 3
   },
   "file_extension": ".py",
   "mimetype": "text/x-python",
   "name": "python",
   "nbconvert_exporter": "python",
   "pygments_lexer": "ipython3",
   "version": "3.10.0"
  },
  "orig_nbformat": 4,
  "vscode": {
   "interpreter": {
    "hash": "59ab48a8f31f82c8503f6f6b6f9bc3e87f198f6a97147fb2f92d23c4c96699f1"
   }
  }
 },
 "nbformat": 4,
 "nbformat_minor": 2
}
