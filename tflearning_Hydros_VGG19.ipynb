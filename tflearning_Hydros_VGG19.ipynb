{
  "cells": [
    {
      "cell_type": "code",
      "execution_count": 24,
      "metadata": {
        "id": "3cOxEn8PMFcY"
      },
      "outputs": [],
      "source": [
        "from tensorflow.keras.applications.vgg19 import VGG19\n",
        "import tensorflow as tf\n",
        "from tensorflow.keras.preprocessing.image import ImageDataGenerator\n",
        "from tensorflow.keras.layers import Conv2D, MaxPooling2D, Flatten, Dense\n",
        "import matplotlib.pyplot as plt\n",
        "import numpy as np\n",
        "import PIL\n",
        "\n",
        "from tensorflow import keras\n",
        "from tensorflow.keras import layers\n",
        "from tensorflow.keras.models import Sequential\n",
        "\n",
        "from tensorflow.keras import regularizers\n",
        "from keras.layers import Dropout\n",
        "from glob import glob\n",
        "from tensorflow.keras.models import Model"
      ]
    },
    {
      "cell_type": "code",
      "execution_count": 25,
      "metadata": {
        "id": "Pw2iTVrNMFez"
      },
      "outputs": [],
      "source": [
        "IMAGE_SIZE = [224, 224]\n",
        "\n",
        "train_path = 'G:/Shared drives/Hydros_new/train'\n",
        "valid_path = 'G:/Shared drives/Hydros_new/test'"
      ]
    },
    {
      "cell_type": "code",
      "execution_count": 26,
      "metadata": {
        "id": "XGfcsam57Kz_"
      },
      "outputs": [],
      "source": [
        "vgg19 = VGG19(input_shape=IMAGE_SIZE + [3], weights='imagenet', include_top=False)\n",
        "for layer in vgg19.layers:\n",
        "    layer.trainable = False"
      ]
    },
    {
      "cell_type": "code",
      "execution_count": 27,
      "metadata": {
        "id": "mAOsusWBMNVX"
      },
      "outputs": [],
      "source": [
        "x = Flatten()(vgg19.output)\n",
        "x = Dense(19, activation='softmax')(x)\n",
        "\n",
        "model = Model(inputs=vgg19.input, outputs=x)"
      ]
    },
    {
      "cell_type": "code",
      "execution_count": 28,
      "metadata": {
        "colab": {
          "base_uri": "https://localhost:8080/"
        },
        "id": "SfIItNUrMNX_",
        "outputId": "f735bb59-8e5e-45dc-a9eb-f88fd0de45be"
      },
      "outputs": [
        {
          "name": "stdout",
          "output_type": "stream",
          "text": [
            "Model: \"model_2\"\n",
            "_________________________________________________________________\n",
            " Layer (type)                Output Shape              Param #   \n",
            "=================================================================\n",
            " input_4 (InputLayer)        [(None, 224, 224, 3)]     0         \n",
            "                                                                 \n",
            " block1_conv1 (Conv2D)       (None, 224, 224, 64)      1792      \n",
            "                                                                 \n",
            " block1_conv2 (Conv2D)       (None, 224, 224, 64)      36928     \n",
            "                                                                 \n",
            " block1_pool (MaxPooling2D)  (None, 112, 112, 64)      0         \n",
            "                                                                 \n",
            " block2_conv1 (Conv2D)       (None, 112, 112, 128)     73856     \n",
            "                                                                 \n",
            " block2_conv2 (Conv2D)       (None, 112, 112, 128)     147584    \n",
            "                                                                 \n",
            " block2_pool (MaxPooling2D)  (None, 56, 56, 128)       0         \n",
            "                                                                 \n",
            " block3_conv1 (Conv2D)       (None, 56, 56, 256)       295168    \n",
            "                                                                 \n",
            " block3_conv2 (Conv2D)       (None, 56, 56, 256)       590080    \n",
            "                                                                 \n",
            " block3_conv3 (Conv2D)       (None, 56, 56, 256)       590080    \n",
            "                                                                 \n",
            " block3_conv4 (Conv2D)       (None, 56, 56, 256)       590080    \n",
            "                                                                 \n",
            " block3_pool (MaxPooling2D)  (None, 28, 28, 256)       0         \n",
            "                                                                 \n",
            " block4_conv1 (Conv2D)       (None, 28, 28, 512)       1180160   \n",
            "                                                                 \n",
            " block4_conv2 (Conv2D)       (None, 28, 28, 512)       2359808   \n",
            "                                                                 \n",
            " block4_conv3 (Conv2D)       (None, 28, 28, 512)       2359808   \n",
            "                                                                 \n",
            " block4_conv4 (Conv2D)       (None, 28, 28, 512)       2359808   \n",
            "                                                                 \n",
            " block4_pool (MaxPooling2D)  (None, 14, 14, 512)       0         \n",
            "                                                                 \n",
            " block5_conv1 (Conv2D)       (None, 14, 14, 512)       2359808   \n",
            "                                                                 \n",
            " block5_conv2 (Conv2D)       (None, 14, 14, 512)       2359808   \n",
            "                                                                 \n",
            " block5_conv3 (Conv2D)       (None, 14, 14, 512)       2359808   \n",
            "                                                                 \n",
            " block5_conv4 (Conv2D)       (None, 14, 14, 512)       2359808   \n",
            "                                                                 \n",
            " block5_pool (MaxPooling2D)  (None, 7, 7, 512)         0         \n",
            "                                                                 \n",
            " flatten_2 (Flatten)         (None, 25088)             0         \n",
            "                                                                 \n",
            " dense_6 (Dense)             (None, 19)                476691    \n",
            "                                                                 \n",
            "=================================================================\n",
            "Total params: 20,501,075\n",
            "Trainable params: 476,691\n",
            "Non-trainable params: 20,024,384\n",
            "_________________________________________________________________\n"
          ]
        }
      ],
      "source": [
        "model.summary()"
      ]
    },
    {
      "cell_type": "code",
      "execution_count": 29,
      "metadata": {
        "id": "TyEMuB46MNeG"
      },
      "outputs": [],
      "source": [
        "from tensorflow.keras.preprocessing.image import ImageDataGenerator\n",
        "\n",
        "train_datagen = ImageDataGenerator(rescale = 1./255,\n",
        "                                   shear_range = 0.1,\n",
        "                                   horizontal_flip = True,\n",
        "                                   rotation_range=10,  # Random rotation between -20 and +20 degrees\n",
        "                                   width_shift_range=0.1,  # Randomly shift the width by a factor of 0.1\n",
        "                                   height_shift_range=0.1,  # Randomly shift the height by a factor of 0.1\n",
        "                                   zoom_range=0.1,  # Randomly zoom by 20%\n",
        "                                   fill_mode='nearest')\n",
        "\n",
        "test_datagen = ImageDataGenerator(rescale = 1./255)"
      ]
    },
    {
      "cell_type": "code",
      "execution_count": 30,
      "metadata": {
        "colab": {
          "base_uri": "https://localhost:8080/"
        },
        "id": "X7tOvZdxMNgd",
        "outputId": "3d60d65a-12f7-4c1a-9e72-c5695bd353ce"
      },
      "outputs": [
        {
          "name": "stdout",
          "output_type": "stream",
          "text": [
            "Found 6093 images belonging to 19 classes.\n"
          ]
        }
      ],
      "source": [
        "training_set = train_datagen.flow_from_directory('G:/Shared drives/Hydros_new/train',\n",
        "                                                 target_size = IMAGE_SIZE,\n",
        "                                                 batch_size = 32,\n",
        "                                                 class_mode = 'categorical')"
      ]
    },
    {
      "cell_type": "code",
      "execution_count": 31,
      "metadata": {
        "colab": {
          "base_uri": "https://localhost:8080/"
        },
        "id": "5jcTQcSuMUCB",
        "outputId": "348d027a-16c6-411f-da8e-fce45f7c7d52"
      },
      "outputs": [
        {
          "name": "stdout",
          "output_type": "stream",
          "text": [
            "Found 1354 images belonging to 19 classes.\n"
          ]
        }
      ],
      "source": [
        "test_set = test_datagen.flow_from_directory('G:/Shared drives/Hydros_new/test',\n",
        "                                            target_size = IMAGE_SIZE,\n",
        "                                            batch_size = 32,\n",
        "                                            class_mode = 'categorical')"
      ]
    },
    {
      "cell_type": "code",
      "execution_count": 33,
      "metadata": {
        "colab": {
          "base_uri": "https://localhost:8080/"
        },
        "id": "NuilFhFHMNcJ",
        "outputId": "fbf914e0-8fa1-40ed-9eaa-5780c434ca6c"
      },
      "outputs": [
        {
          "name": "stdout",
          "output_type": "stream",
          "text": [
            "Epoch 1/30\n",
            "191/191 [==============================] - 1615s 8s/step - loss: 1.0535 - accuracy: 0.7742 - val_loss: 0.9325 - val_accuracy: 0.8383\n",
            "Epoch 2/30\n",
            "191/191 [==============================] - 1521s 8s/step - loss: 0.5190 - accuracy: 0.8718 - val_loss: 0.6900 - val_accuracy: 0.8560\n",
            "Epoch 3/30\n",
            "191/191 [==============================] - 1534s 8s/step - loss: 0.3803 - accuracy: 0.8979 - val_loss: 0.8215 - val_accuracy: 0.8456\n",
            "Epoch 4/30\n",
            "191/191 [==============================] - 1525s 8s/step - loss: 0.3711 - accuracy: 0.9060 - val_loss: 0.6800 - val_accuracy: 0.8597\n",
            "Epoch 5/30\n",
            "191/191 [==============================] - 1527s 8s/step - loss: 0.3067 - accuracy: 0.9153 - val_loss: 0.7356 - val_accuracy: 0.8538\n",
            "Epoch 6/30\n",
            "191/191 [==============================] - 1532s 8s/step - loss: 0.2207 - accuracy: 0.9366 - val_loss: 0.7445 - val_accuracy: 0.8612\n",
            "Epoch 7/30\n",
            "191/191 [==============================] - 1526s 8s/step - loss: 0.2250 - accuracy: 0.9355 - val_loss: 0.7344 - val_accuracy: 0.8545\n",
            "Epoch 8/30\n",
            "191/191 [==============================] - 1529s 8s/step - loss: 0.2247 - accuracy: 0.9339 - val_loss: 0.7845 - val_accuracy: 0.8663\n",
            "Epoch 9/30\n",
            "191/191 [==============================] - 1519s 8s/step - loss: 0.1808 - accuracy: 0.9496 - val_loss: 0.8382 - val_accuracy: 0.8648\n",
            "Epoch 10/30\n",
            "191/191 [==============================] - 1524s 8s/step - loss: 0.2026 - accuracy: 0.9465 - val_loss: 0.8231 - val_accuracy: 0.8744\n",
            "Epoch 11/30\n",
            "191/191 [==============================] - 1518s 8s/step - loss: 0.1670 - accuracy: 0.9527 - val_loss: 0.7087 - val_accuracy: 0.8855\n",
            "Epoch 12/30\n",
            "191/191 [==============================] - 1527s 8s/step - loss: 0.1486 - accuracy: 0.9580 - val_loss: 0.7932 - val_accuracy: 0.8811\n",
            "Epoch 13/30\n",
            "191/191 [==============================] - 1523s 8s/step - loss: 0.1602 - accuracy: 0.9567 - val_loss: 0.7700 - val_accuracy: 0.8833\n",
            "Epoch 14/30\n",
            "191/191 [==============================] - 1521s 8s/step - loss: 0.1205 - accuracy: 0.9611 - val_loss: 1.1740 - val_accuracy: 0.8434\n",
            "Epoch 15/30\n",
            "191/191 [==============================] - 1525s 8s/step - loss: 0.1810 - accuracy: 0.9499 - val_loss: 0.7742 - val_accuracy: 0.8796\n",
            "Epoch 16/30\n",
            "191/191 [==============================] - 1519s 8s/step - loss: 0.1327 - accuracy: 0.9659 - val_loss: 0.7272 - val_accuracy: 0.8877\n",
            "Epoch 17/30\n",
            "191/191 [==============================] - 1531s 8s/step - loss: 0.1555 - accuracy: 0.9591 - val_loss: 0.8121 - val_accuracy: 0.8863\n",
            "Epoch 18/30\n",
            "191/191 [==============================] - 1522s 8s/step - loss: 0.1157 - accuracy: 0.9670 - val_loss: 0.9842 - val_accuracy: 0.8833\n",
            "Epoch 19/30\n",
            "191/191 [==============================] - 1525s 8s/step - loss: 0.1230 - accuracy: 0.9655 - val_loss: 1.0262 - val_accuracy: 0.8685\n",
            "Epoch 20/30\n",
            "191/191 [==============================] - 1522s 8s/step - loss: 0.1489 - accuracy: 0.9619 - val_loss: 1.0095 - val_accuracy: 0.8752\n",
            "Epoch 21/30\n",
            "191/191 [==============================] - 1550s 8s/step - loss: 0.1100 - accuracy: 0.9691 - val_loss: 1.1203 - val_accuracy: 0.8826\n",
            "Epoch 22/30\n",
            "191/191 [==============================] - 1512s 8s/step - loss: 0.1713 - accuracy: 0.9568 - val_loss: 1.1937 - val_accuracy: 0.8501\n",
            "Epoch 23/30\n",
            "191/191 [==============================] - 1506s 8s/step - loss: 0.1132 - accuracy: 0.9670 - val_loss: 1.0388 - val_accuracy: 0.8796\n",
            "Epoch 24/30\n",
            "191/191 [==============================] - 1580s 8s/step - loss: 0.1321 - accuracy: 0.9650 - val_loss: 1.0829 - val_accuracy: 0.8863\n",
            "Epoch 25/30\n",
            "191/191 [==============================] - 1518s 8s/step - loss: 0.1283 - accuracy: 0.9665 - val_loss: 1.0483 - val_accuracy: 0.8870\n",
            "Epoch 26/30\n",
            "191/191 [==============================] - 1511s 8s/step - loss: 0.1670 - accuracy: 0.9634 - val_loss: 1.2354 - val_accuracy: 0.8811\n",
            "Epoch 27/30\n",
            "191/191 [==============================] - 1505s 8s/step - loss: 0.1525 - accuracy: 0.9642 - val_loss: 1.1701 - val_accuracy: 0.8781\n",
            "Epoch 28/30\n",
            "191/191 [==============================] - 1541s 8s/step - loss: 0.0919 - accuracy: 0.9732 - val_loss: 1.0696 - val_accuracy: 0.8804\n",
            "Epoch 29/30\n",
            "191/191 [==============================] - 1512s 8s/step - loss: 0.0997 - accuracy: 0.9731 - val_loss: 0.9620 - val_accuracy: 0.8936\n",
            "Epoch 30/30\n",
            "191/191 [==============================] - 1504s 8s/step - loss: 0.1284 - accuracy: 0.9667 - val_loss: 1.1263 - val_accuracy: 0.8848\n"
          ]
        },
        {
          "data": {
            "text/plain": [
              "<keras.callbacks.History at 0x1dc1d9deef0>"
            ]
          },
          "execution_count": 33,
          "metadata": {},
          "output_type": "execute_result"
        }
      ],
      "source": [
        "model.compile(optimizer='adam',\n",
        "              loss='categorical_crossentropy',\n",
        "              metrics=['accuracy']\n",
        "              )\n",
        "model.fit(training_set,\n",
        "          validation_data=test_set, \n",
        "          epochs=30\n",
        "          )"
      ]
    },
    {
      "cell_type": "markdown",
      "metadata": {
        "id": "L3O9EgLkW3kb"
      },
      "source": [
        "**USE OUTPUT IN MODEL**"
      ]
    },
    {
      "cell_type": "code",
      "execution_count": 34,
      "metadata": {
        "id": "aniglWf1WtoX"
      },
      "outputs": [],
      "source": [
        "from tensorflow.keras.layers import Input\n",
        "vgg19 = VGG19(weights='imagenet', include_top=False, input_shape=(224, 224, 3))\n",
        "for layer in vgg19.layers:\n",
        "    layer.trainable = False"
      ]
    },
    {
      "cell_type": "code",
      "execution_count": 35,
      "metadata": {
        "id": "TWx0FUICYY-o"
      },
      "outputs": [],
      "source": [
        "input_tensor = Input(shape=(224, 224, 3))"
      ]
    },
    {
      "cell_type": "code",
      "execution_count": 36,
      "metadata": {
        "id": "lC2NcOEgYdC1"
      },
      "outputs": [],
      "source": [
        "vgg19_output = vgg19(input_tensor)"
      ]
    },
    {
      "cell_type": "code",
      "execution_count": 37,
      "metadata": {
        "id": "6K2F-3QrYdFK"
      },
      "outputs": [],
      "source": [
        "flatten = Flatten()(vgg19_output)"
      ]
    },
    {
      "cell_type": "markdown",
      "metadata": {
        "id": "r2qEjCFpZMpp"
      },
      "source": [
        "**DATA AUGMENTATION**"
      ]
    },
    {
      "cell_type": "code",
      "execution_count": 38,
      "metadata": {
        "id": "5-7Iui6yZLvh"
      },
      "outputs": [],
      "source": [
        "datagen = ImageDataGenerator(\n",
        "    rotation_range=10,\n",
        "    width_shift_range=0.1,\n",
        "    height_shift_range=0.1,\n",
        "    brightness_range=[0.8, 1.2],\n",
        "    fill_mode='nearest'\n",
        ")"
      ]
    },
    {
      "cell_type": "code",
      "execution_count": 39,
      "metadata": {
        "id": "RXSF5LEyYjne"
      },
      "outputs": [],
      "source": [
        "dense1 = Dense(256, activation='relu')(flatten)\n",
        "dropout1 = Dropout(0.2)(dense1)\n",
        "dense2 = Dense(128, activation='relu')(dropout1)\n",
        "dropout2 = Dropout(0.2)(dense2)\n",
        "dense3 = Dense(64, activation='relu')(dropout2)\n",
        "dropout3 = Dropout(0.2)(dense3)\n",
        "dense4 = Dense(32, activation='relu')(dropout3)\n",
        "dropout4 = Dropout(0.2)(dense4)\n",
        "output = Dense(19, activation='softmax')(dropout4)\n",
        "model = Model(inputs=input_tensor, outputs=output)"
      ]
    },
    {
      "cell_type": "code",
      "execution_count": 22,
      "metadata": {},
      "outputs": [
        {
          "name": "stdout",
          "output_type": "stream",
          "text": [
            "[]\n"
          ]
        }
      ],
      "source": [
        "print(tf.config.list_physical_devices('GPU'))"
      ]
    },
    {
      "cell_type": "code",
      "execution_count": 40,
      "metadata": {
        "colab": {
          "base_uri": "https://localhost:8080/"
        },
        "id": "bp0SejCyYo6_",
        "outputId": "6bb31bcf-5aee-4b4b-9b9a-820437cbd31f"
      },
      "outputs": [
        {
          "name": "stdout",
          "output_type": "stream",
          "text": [
            "Epoch 1/50\n",
            "191/191 [==============================] - 1539s 8s/step - loss: 1.5885 - accuracy: 0.5334 - val_loss: 1.0050 - val_accuracy: 0.7245\n",
            "Epoch 2/50\n",
            "191/191 [==============================] - 1540s 8s/step - loss: 1.0507 - accuracy: 0.7069 - val_loss: 0.8010 - val_accuracy: 0.7688\n",
            "Epoch 3/50\n",
            "191/191 [==============================] - 1540s 8s/step - loss: 0.8882 - accuracy: 0.7525 - val_loss: 0.8074 - val_accuracy: 0.7696\n",
            "Epoch 4/50\n",
            "191/191 [==============================] - 1540s 8s/step - loss: 0.8199 - accuracy: 0.7719 - val_loss: 0.7293 - val_accuracy: 0.7910\n",
            "Epoch 5/50\n",
            "191/191 [==============================] - 1531s 8s/step - loss: 0.7954 - accuracy: 0.7766 - val_loss: 0.7320 - val_accuracy: 0.7843\n",
            "Epoch 6/50\n",
            "191/191 [==============================] - 1541s 8s/step - loss: 0.7173 - accuracy: 0.7924 - val_loss: 0.7065 - val_accuracy: 0.7858\n",
            "Epoch 7/50\n",
            "191/191 [==============================] - 1537s 8s/step - loss: 0.7623 - accuracy: 0.7765 - val_loss: 0.7169 - val_accuracy: 0.7836\n",
            "Epoch 8/50\n",
            "191/191 [==============================] - 1537s 8s/step - loss: 0.7151 - accuracy: 0.7940 - val_loss: 0.6506 - val_accuracy: 0.7999\n",
            "Epoch 9/50\n",
            "191/191 [==============================] - 1594s 8s/step - loss: 0.6653 - accuracy: 0.8022 - val_loss: 0.6798 - val_accuracy: 0.7895\n",
            "Epoch 10/50\n",
            "191/191 [==============================] - 1593s 8s/step - loss: 0.6811 - accuracy: 0.7998 - val_loss: 0.6620 - val_accuracy: 0.7962\n",
            "Epoch 11/50\n",
            "191/191 [==============================] - 1559s 8s/step - loss: 0.6480 - accuracy: 0.8085 - val_loss: 0.6718 - val_accuracy: 0.7976\n",
            "Epoch 12/50\n",
            "191/191 [==============================] - 1556s 8s/step - loss: 0.6714 - accuracy: 0.8027 - val_loss: 0.6667 - val_accuracy: 0.7939\n",
            "Epoch 13/50\n",
            "191/191 [==============================] - 1562s 8s/step - loss: 0.6713 - accuracy: 0.7937 - val_loss: 0.6551 - val_accuracy: 0.7903\n",
            "Epoch 14/50\n",
            "191/191 [==============================] - 1556s 8s/step - loss: 0.6262 - accuracy: 0.8055 - val_loss: 0.6747 - val_accuracy: 0.7939\n",
            "Epoch 15/50\n",
            "191/191 [==============================] - 1564s 8s/step - loss: 0.6441 - accuracy: 0.8026 - val_loss: 0.6164 - val_accuracy: 0.8021\n",
            "Epoch 16/50\n",
            "191/191 [==============================] - 1557s 8s/step - loss: 0.6177 - accuracy: 0.8103 - val_loss: 0.6204 - val_accuracy: 0.8006\n",
            "Epoch 17/50\n",
            "191/191 [==============================] - 1562s 8s/step - loss: 0.6053 - accuracy: 0.8088 - val_loss: 0.6064 - val_accuracy: 0.8028\n",
            "Epoch 18/50\n",
            "191/191 [==============================] - 1556s 8s/step - loss: 0.6062 - accuracy: 0.8103 - val_loss: 0.6251 - val_accuracy: 0.7954\n",
            "Epoch 19/50\n",
            "191/191 [==============================] - 1556s 8s/step - loss: 0.6194 - accuracy: 0.8060 - val_loss: 0.5691 - val_accuracy: 0.8072\n",
            "Epoch 20/50\n",
            "191/191 [==============================] - 1560s 8s/step - loss: 0.5855 - accuracy: 0.8167 - val_loss: 0.6064 - val_accuracy: 0.8013\n",
            "Epoch 21/50\n",
            "191/191 [==============================] - 1554s 8s/step - loss: 0.5727 - accuracy: 0.8193 - val_loss: 0.6094 - val_accuracy: 0.7984\n",
            "Epoch 22/50\n",
            "191/191 [==============================] - 1559s 8s/step - loss: 0.5846 - accuracy: 0.8104 - val_loss: 0.6162 - val_accuracy: 0.7999\n",
            "Epoch 23/50\n",
            "191/191 [==============================] - 1555s 8s/step - loss: 0.5545 - accuracy: 0.8218 - val_loss: 0.5963 - val_accuracy: 0.8183\n",
            "Epoch 24/50\n",
            "191/191 [==============================] - 1562s 8s/step - loss: 0.5765 - accuracy: 0.8211 - val_loss: 0.5774 - val_accuracy: 0.8117\n",
            "Epoch 25/50\n",
            "191/191 [==============================] - 1562s 8s/step - loss: 0.5997 - accuracy: 0.8168 - val_loss: 0.6062 - val_accuracy: 0.8102\n",
            "Epoch 26/50\n",
            "191/191 [==============================] - 1557s 8s/step - loss: 0.5735 - accuracy: 0.8160 - val_loss: 0.6140 - val_accuracy: 0.8072\n",
            "Epoch 27/50\n",
            "191/191 [==============================] - 1561s 8s/step - loss: 0.5623 - accuracy: 0.8182 - val_loss: 0.6008 - val_accuracy: 0.8043\n",
            "Epoch 28/50\n",
            "191/191 [==============================] - 1555s 8s/step - loss: 0.5684 - accuracy: 0.8191 - val_loss: 0.6174 - val_accuracy: 0.8220\n",
            "Epoch 29/50\n",
            "191/191 [==============================] - 1563s 8s/step - loss: 0.5578 - accuracy: 0.8221 - val_loss: 0.6116 - val_accuracy: 0.8087\n",
            "Epoch 30/50\n",
            "191/191 [==============================] - 1577s 8s/step - loss: 0.5659 - accuracy: 0.8255 - val_loss: 0.5903 - val_accuracy: 0.8161\n",
            "Epoch 31/50\n",
            "191/191 [==============================] - 1572s 8s/step - loss: 0.5469 - accuracy: 0.8278 - val_loss: 0.5889 - val_accuracy: 0.8131\n",
            "Epoch 32/50\n",
            "191/191 [==============================] - 1551s 8s/step - loss: 0.5438 - accuracy: 0.8237 - val_loss: 0.6248 - val_accuracy: 0.8065\n",
            "Epoch 33/50\n",
            "191/191 [==============================] - 1554s 8s/step - loss: 0.5432 - accuracy: 0.8246 - val_loss: 0.5959 - val_accuracy: 0.8124\n",
            "Epoch 34/50\n",
            "191/191 [==============================] - 1623s 9s/step - loss: 0.5394 - accuracy: 0.8290 - val_loss: 0.5640 - val_accuracy: 0.8213\n",
            "Epoch 35/50\n",
            "191/191 [==============================] - 1553s 8s/step - loss: 0.5448 - accuracy: 0.8218 - val_loss: 0.5779 - val_accuracy: 0.8287\n",
            "Epoch 36/50\n",
            "191/191 [==============================] - 1560s 8s/step - loss: 0.5445 - accuracy: 0.8278 - val_loss: 0.5865 - val_accuracy: 0.8124\n",
            "Epoch 37/50\n",
            "191/191 [==============================] - 1547s 8s/step - loss: 0.5367 - accuracy: 0.8272 - val_loss: 0.5848 - val_accuracy: 0.8058\n",
            "Epoch 38/50\n",
            "191/191 [==============================] - 1546s 8s/step - loss: 0.5148 - accuracy: 0.8341 - val_loss: 0.6101 - val_accuracy: 0.8191\n",
            "Epoch 39/50\n",
            "191/191 [==============================] - 1541s 8s/step - loss: 0.5692 - accuracy: 0.8160 - val_loss: 0.5792 - val_accuracy: 0.8227\n",
            "Epoch 40/50\n",
            "191/191 [==============================] - 1541s 8s/step - loss: 0.5316 - accuracy: 0.8333 - val_loss: 0.5681 - val_accuracy: 0.8272\n",
            "Epoch 41/50\n",
            "191/191 [==============================] - 1546s 8s/step - loss: 0.5180 - accuracy: 0.8326 - val_loss: 0.5877 - val_accuracy: 0.8109\n",
            "Epoch 42/50\n",
            "191/191 [==============================] - 1550s 8s/step - loss: 0.5219 - accuracy: 0.8308 - val_loss: 0.5968 - val_accuracy: 0.8250\n",
            "Epoch 43/50\n",
            "191/191 [==============================] - 1561s 8s/step - loss: 0.5243 - accuracy: 0.8273 - val_loss: 0.5804 - val_accuracy: 0.8124\n",
            "Epoch 44/50\n",
            "191/191 [==============================] - 1523s 8s/step - loss: 0.5423 - accuracy: 0.8280 - val_loss: 0.5851 - val_accuracy: 0.8227\n",
            "Epoch 45/50\n",
            "191/191 [==============================] - 1469s 8s/step - loss: 0.5534 - accuracy: 0.8195 - val_loss: 0.5803 - val_accuracy: 0.8272\n",
            "Epoch 46/50\n",
            "191/191 [==============================] - 1448s 8s/step - loss: 0.5205 - accuracy: 0.8319 - val_loss: 0.5640 - val_accuracy: 0.8168\n",
            "Epoch 47/50\n",
            "191/191 [==============================] - 1432s 8s/step - loss: 0.5174 - accuracy: 0.8341 - val_loss: 0.6206 - val_accuracy: 0.8124\n",
            "Epoch 48/50\n",
            "191/191 [==============================] - 1506s 8s/step - loss: 0.4979 - accuracy: 0.8400 - val_loss: 0.5667 - val_accuracy: 0.8301\n",
            "Epoch 49/50\n",
            "191/191 [==============================] - 1539s 8s/step - loss: 0.5346 - accuracy: 0.8293 - val_loss: 0.5627 - val_accuracy: 0.8287\n",
            "Epoch 50/50\n",
            "191/191 [==============================] - 1626s 9s/step - loss: 0.5173 - accuracy: 0.8344 - val_loss: 0.5518 - val_accuracy: 0.8301\n"
          ]
        },
        {
          "data": {
            "text/plain": [
              "<keras.callbacks.History at 0x1dc0a9b8a30>"
            ]
          },
          "execution_count": 40,
          "metadata": {},
          "output_type": "execute_result"
        }
      ],
      "source": [
        "model.compile(optimizer='adam',\n",
        "              loss='categorical_crossentropy', \n",
        "              metrics=['accuracy'])\n",
        "model.fit(training_set, \n",
        "          validation_data=test_set, \n",
        "          epochs=50)"
      ]
    },
    {
      "cell_type": "markdown",
      "metadata": {
        "id": "_ra0k9XtDwme"
      },
      "source": [
        "**CONVERT TO TFLite**"
      ]
    },
    {
      "cell_type": "code",
      "execution_count": 41,
      "metadata": {
        "colab": {
          "base_uri": "https://localhost:8080/",
          "height": 207
        },
        "id": "DF1JtdEUDvu_",
        "outputId": "aa861e2a-fe93-49cf-b2cd-1a3c32e4d325"
      },
      "outputs": [
        {
          "name": "stderr",
          "output_type": "stream",
          "text": [
            "WARNING:absl:Found untraced functions such as _update_step_xla, _jit_compiled_convolution_op, _jit_compiled_convolution_op, _jit_compiled_convolution_op, _jit_compiled_convolution_op while saving (showing 5 of 17). These functions will not be directly callable after loading.\n"
          ]
        },
        {
          "name": "stdout",
          "output_type": "stream",
          "text": [
            "INFO:tensorflow:Assets written to: saved_model/1\\assets\n"
          ]
        },
        {
          "name": "stderr",
          "output_type": "stream",
          "text": [
            "INFO:tensorflow:Assets written to: saved_model/1\\assets\n"
          ]
        }
      ],
      "source": [
        "export_dir = 'saved_model/1'\n",
        "\n",
        "tf.saved_model.save(model, export_dir = export_dir)"
      ]
    },
    {
      "cell_type": "code",
      "execution_count": 42,
      "metadata": {
        "id": "jA2a0PHVD76Z"
      },
      "outputs": [],
      "source": [
        "mode = \"Speed\" \n",
        "\n",
        "if mode == 'Storage':\n",
        "    optimization = tf.lite.Optimize.OPTIMIZE_FOR_SIZE\n",
        "elif mode == 'Speed':\n",
        "    optimization = tf.lite.Optimize.OPTIMIZE_FOR_LATENCY\n",
        "else:\n",
        "    optimization = tf.lite.Optimize.DEFAULT"
      ]
    },
    {
      "cell_type": "code",
      "execution_count": 43,
      "metadata": {
        "id": "hZ7_m55rD7-j"
      },
      "outputs": [
        {
          "name": "stderr",
          "output_type": "stream",
          "text": [
            "WARNING:absl:Optimization option OPTIMIZE_FOR_LATENCY is deprecated, please use optimizations=[Optimize.DEFAULT] instead.\n",
            "WARNING:absl:Optimization option OPTIMIZE_FOR_LATENCY is deprecated, please use optimizations=[Optimize.DEFAULT] instead.\n",
            "WARNING:absl:Optimization option OPTIMIZE_FOR_LATENCY is deprecated, please use optimizations=[Optimize.DEFAULT] instead.\n"
          ]
        }
      ],
      "source": [
        "converter = tf.lite.TFLiteConverter.from_saved_model(export_dir)\n",
        "\n",
        "# Set the optimzations\n",
        "converter.optimizations = [optimization]\n",
        "\n",
        "# Invoke the converter to finally generate the TFLite model\n",
        "tflite_model = converter.convert()"
      ]
    },
    {
      "cell_type": "code",
      "execution_count": 44,
      "metadata": {
        "id": "6FakEQV7D8Az"
      },
      "outputs": [
        {
          "data": {
            "text/plain": [
              "26590440"
            ]
          },
          "execution_count": 44,
          "metadata": {},
          "output_type": "execute_result"
        }
      ],
      "source": [
        "import pathlib\n",
        "tflite_model_file = pathlib.Path('D:/Download/model2.tflite')\n",
        "tflite_model_file.write_bytes(tflite_model)"
      ]
    },
    {
      "cell_type": "code",
      "execution_count": 27,
      "metadata": {
        "id": "_jB6pGAnEMa6"
      },
      "outputs": [],
      "source": []
    },
    {
      "cell_type": "code",
      "execution_count": 31,
      "metadata": {
        "id": "-hiOBXMGEMdW"
      },
      "outputs": [
        {
          "ename": "AttributeError",
          "evalue": "'str' object has no attribute 'take'",
          "output_type": "error",
          "traceback": [
            "\u001b[1;31m---------------------------------------------------------------------------\u001b[0m",
            "\u001b[1;31mAttributeError\u001b[0m                            Traceback (most recent call last)",
            "Cell \u001b[1;32mIn[31], line 6\u001b[0m\n\u001b[0;32m      3\u001b[0m test_labels \u001b[39m=\u001b[39m []\n\u001b[0;32m      4\u001b[0m test_images \u001b[39m=\u001b[39m []\n\u001b[1;32m----> 6\u001b[0m \u001b[39mfor\u001b[39;00m img, label \u001b[39min\u001b[39;00m test_batches\u001b[39m.\u001b[39;49mtake(\u001b[39m1\u001b[39m):\n\u001b[0;32m      7\u001b[0m     interpreter\u001b[39m.\u001b[39mset_tensor(input_index, img)\n\u001b[0;32m      8\u001b[0m     interpreter\u001b[39m.\u001b[39minvoke()\n",
            "\u001b[1;31mAttributeError\u001b[0m: 'str' object has no attribute 'take'"
          ]
        }
      ],
      "source": []
    },
    {
      "cell_type": "code",
      "execution_count": null,
      "metadata": {
        "id": "CoyeD8TnEMfn"
      },
      "outputs": [],
      "source": []
    },
    {
      "cell_type": "code",
      "execution_count": null,
      "metadata": {
        "id": "z2ks_TzVEMhz"
      },
      "outputs": [],
      "source": []
    },
    {
      "cell_type": "code",
      "execution_count": null,
      "metadata": {
        "id": "EuqGxW40MUGm"
      },
      "outputs": [],
      "source": [
        "# save it as a h5 file\n",
        "\n",
        "\n",
        "from tensorflow.keras.models import load_model\n",
        "\n",
        "model.save('model_inception.h5')"
      ]
    },
    {
      "cell_type": "code",
      "execution_count": null,
      "metadata": {
        "id": "G6cM1wLWMUKk"
      },
      "outputs": [],
      "source": [
        "form keras.models import model_from_json\n",
        "with open(\"path_to_json_file.json\") as json_file:\n",
        "    model = model_from_json(json_file.read())\n",
        "    model.load_weights(\"path_to_weights_file.h5\")"
      ]
    },
    {
      "cell_type": "code",
      "execution_count": null,
      "metadata": {
        "id": "Jsg-DFKNMUMy"
      },
      "outputs": [],
      "source": [
        "for i in range(5):\n",
        "    model.layers[i].trainable = False"
      ]
    },
    {
      "cell_type": "code",
      "execution_count": null,
      "metadata": {
        "id": "IjXR4haiMivw"
      },
      "outputs": [],
      "source": [
        "for i in range(5,8):\n",
        "    model.layers[i].trainable = True"
      ]
    },
    {
      "cell_type": "code",
      "execution_count": null,
      "metadata": {
        "id": "3OeUWv_WMix7"
      },
      "outputs": [],
      "source": [
        "ll = model.layers[8].output\n",
        "ll = Dense(32)(ll)\n",
        "ll = Dense(64)(ll)\n",
        "ll = Dense(num_classes,activation=\"softmax\")(ll)\n",
        "\n",
        "new_model = Model(inputs=model.input,outputs=ll)"
      ]
    }
  ],
  "metadata": {
    "accelerator": "GPU",
    "colab": {
      "gpuType": "T4",
      "provenance": []
    },
    "kernelspec": {
      "display_name": "Python 3.10.10 ('base')",
      "language": "python",
      "name": "python3"
    },
    "language_info": {
      "codemirror_mode": {
        "name": "ipython",
        "version": 3
      },
      "file_extension": ".py",
      "mimetype": "text/x-python",
      "name": "python",
      "nbconvert_exporter": "python",
      "pygments_lexer": "ipython3",
      "version": "3.10.10"
    },
    "vscode": {
      "interpreter": {
        "hash": "137e9bcd0ed9cf04569e486ca96e031fabe300a51d72259f7d3b4d99334e3d0e"
      }
    }
  },
  "nbformat": 4,
  "nbformat_minor": 0
}
